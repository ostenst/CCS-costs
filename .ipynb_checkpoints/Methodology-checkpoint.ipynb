{
 "cells": [
  {
   "cell_type": "markdown",
   "id": "47d5c2e3",
   "metadata": {
    "slideshow": {
     "slide_type": "slide"
    }
   },
   "source": [
    "# Introduction\n",
    "- Brief introduction to the topic.\n",
    "\n",
    "# Step 1: Estimate Rankine Cycle\n",
    "- Explanation of what you are trying to achieve in this step."
   ]
  },
  {
   "cell_type": "code",
   "execution_count": null,
   "id": "3437670f",
   "metadata": {
    "slideshow": {
     "slide_type": "subslide"
    }
   },
   "outputs": [],
   "source": [
    "# Step 1: Estimate Rankine Cycle\n",
    "#%%capture\n",
    "# Your code for estimating Rankine cycle"
   ]
  },
  {
   "cell_type": "code",
   "execution_count": null,
   "id": "2d05e7dc",
   "metadata": {
    "slideshow": {
     "slide_type": "subslide"
    }
   },
   "outputs": [],
   "source": [
    "# Step 2: Regression of Aspen model\n",
    "#%%capture\n",
    "# Your code for regression of Aspen model"
   ]
  },
  {
   "cell_type": "code",
   "execution_count": null,
   "id": "a646df8b",
   "metadata": {
    "slideshow": {
     "slide_type": "subslide"
    }
   },
   "outputs": [],
   "source": [
    "# Step 3: Sizing and cost estimate of CCS components\n",
    "#%%capture\n",
    "# Your code for sizing and cost estimate of CCS components"
   ]
  },
  {
   "cell_type": "markdown",
   "id": "7dbdaf74",
   "metadata": {
    "slideshow": {
     "slide_type": "slide"
    }
   },
   "source": [
    "# End\n",
    "- What a cool presentation!"
   ]
  }
 ],
 "metadata": {
  "celltoolbar": "Slideshow",
  "kernelspec": {
   "display_name": "Python 3 (ipykernel)",
   "language": "python",
   "name": "python3"
  },
  "language_info": {
   "codemirror_mode": {
    "name": "ipython",
    "version": 3
   },
   "file_extension": ".py",
   "mimetype": "text/x-python",
   "name": "python",
   "nbconvert_exporter": "python",
   "pygments_lexer": "ipython3",
   "version": "3.11.5"
  }
 },
 "nbformat": 4,
 "nbformat_minor": 5
}
